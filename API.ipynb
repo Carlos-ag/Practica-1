{
 "cells": [
  {
   "cell_type": "code",
   "execution_count": 10,
   "metadata": {},
   "outputs": [
    {
     "data": {
      "text/plain": [
       "[{'pregunta': 'Which of the following Arab countries does NOT have a flag containing only Pan-Arab colours?',\n",
       "  'respuestas': ['Kuwait', 'United Arab Emirates', 'Jordan', 'Qatar'],\n",
       "  'respuesta_correcta': 3},\n",
       " {'pregunta': 'How many time zones does China have?',\n",
       "  'respuestas': ['3', '4', '2', '1'],\n",
       "  'respuesta_correcta': 3},\n",
       " {'pregunta': 'What is the smallest country in the world?',\n",
       "  'respuestas': ['Maldives', 'Monaco', 'Malta', 'Vatican City'],\n",
       "  'respuesta_correcta': 3},\n",
       " {'pregunta': 'Which country has hosted the 2018 FIFA World Cup?',\n",
       "  'respuestas': ['Germany', 'United States', 'Saudi Arabia', 'Russia'],\n",
       "  'respuesta_correcta': 3},\n",
       " {'pregunta': 'In the TV show &#039;M*A*S*H&#039;, what was the nickname of Corporal Walter O&#039;Reilly?',\n",
       "  'respuestas': ['Hawkeye', 'Hot Lips', 'Trapper', 'Radar'],\n",
       "  'respuesta_correcta': 3}]"
      ]
     },
     "execution_count": 10,
     "metadata": {},
     "output_type": "execute_result"
    }
   ],
   "source": [
    "import requests\n",
    "\n",
    "# 1. Realizar una llamada a la API\n",
    "url = 'https://opentdb.com/api.php?amount=5&difficulty=easy&type=multiple'\n",
    "\n",
    "response = requests.get(url)\n",
    "\n",
    "if response.status_code == 200:\n",
    "    api_preguntas = response.json()\n",
    "else:\n",
    "    print('Error:', response.status_code)\n",
    "\n",
    "# 2. Transformar los datos de la API en una lista de diccionarios\n",
    "def transform_data(data):\n",
    "    formatted_list = []\n",
    "    for item in data['results']:\n",
    "        all_answers = item['incorrect_answers'] + [item['correct_answer']]\n",
    "        correct_answer_index = all_answers.index(item['correct_answer'])\n",
    "        formatted_item = {\n",
    "            'pregunta': item['question'],\n",
    "            'respuestas': all_answers,\n",
    "            'respuesta_correcta': correct_answer_index\n",
    "        }\n",
    "        formatted_list.append(formatted_item)\n",
    "    return formatted_list\n",
    "\n",
    "# 3. Mostrar los datos en pantalla\n",
    "formatted_api_data = transform_data(api_preguntas)\n",
    "formatted_api_data\n"
   ]
  }
 ],
 "metadata": {
  "kernelspec": {
   "display_name": "Python 3",
   "language": "python",
   "name": "python3"
  },
  "language_info": {
   "codemirror_mode": {
    "name": "ipython",
    "version": 3
   },
   "file_extension": ".py",
   "mimetype": "text/x-python",
   "name": "python",
   "nbconvert_exporter": "python",
   "pygments_lexer": "ipython3",
   "version": "3.10.6"
  }
 },
 "nbformat": 4,
 "nbformat_minor": 2
}
