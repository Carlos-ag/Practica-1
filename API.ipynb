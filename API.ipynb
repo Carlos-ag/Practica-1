{
 "cells": [
  {
   "cell_type": "code",
   "execution_count": 5,
   "metadata": {},
   "outputs": [
    {
     "name": "stdout",
     "output_type": "stream",
     "text": [
      "{'response_code': 0, 'results': [{'type': 'multiple', 'difficulty': 'easy', 'category': 'Entertainment: Video Games', 'question': 'Who is the creator of the Super Smash Bros. Series?', 'correct_answer': 'Masahiro Sakurai', 'incorrect_answers': ['Reggie Fils-Aim&eacute;', 'Bill Trinen', 'Hideo Kojima']}, {'type': 'multiple', 'difficulty': 'easy', 'category': 'Entertainment: Video Games', 'question': 'What is the most expensive weapon in Counter-Strike: Global Offensive?', 'correct_answer': 'Scar-20/G3SG1', 'incorrect_answers': ['M4A1', 'AWP', 'R8 Revolver']}, {'type': 'multiple', 'difficulty': 'easy', 'category': 'Entertainment: Video Games', 'question': 'In which year was League of Legends released?', 'correct_answer': '2009', 'incorrect_answers': ['2010', '2003', '2001']}, {'type': 'multiple', 'difficulty': 'easy', 'category': 'Entertainment: Cartoon &amp; Animations', 'question': 'What is the relationship between Rick and Morty in the show &quot;Rick and Morty&quot;?', 'correct_answer': 'Grandfather and Grandson', 'incorrect_answers': ['Father and Son', 'Best Friends', 'Crimefighting Partners']}, {'type': 'multiple', 'difficulty': 'easy', 'category': 'Entertainment: Video Games', 'question': 'In &quot;Call Of Duty: Zombies&quot;, what is the name of the machine that upgrades weapons?', 'correct_answer': 'Pack-A-Punch', 'incorrect_answers': ['Wunderfizz', 'Gersch Device', 'Mule Kick']}]}\n"
     ]
    },
    {
     "data": {
      "text/plain": [
       "[{'pregunta': 'Who is the creator of the Super Smash Bros. Series?',\n",
       "  'respuestas': ['Bill Trinen',\n",
       "   'Hideo Kojima',\n",
       "   'Reggie Fils-Aim&eacute;',\n",
       "   'Masahiro Sakurai'],\n",
       "  'respuesta_correcta': 'Masahiro Sakurai'},\n",
       " {'pregunta': 'What is the most expensive weapon in Counter-Strike: Global Offensive?',\n",
       "  'respuestas': ['R8 Revolver', 'Scar-20/G3SG1', 'AWP', 'M4A1'],\n",
       "  'respuesta_correcta': 'Scar-20/G3SG1'},\n",
       " {'pregunta': 'In which year was League of Legends released?',\n",
       "  'respuestas': ['2001', '2003', '2009', '2010'],\n",
       "  'respuesta_correcta': '2009'},\n",
       " {'pregunta': 'What is the relationship between Rick and Morty in the show &quot;Rick and Morty&quot;?',\n",
       "  'respuestas': ['Grandfather and Grandson',\n",
       "   'Crimefighting Partners',\n",
       "   'Best Friends',\n",
       "   'Father and Son'],\n",
       "  'respuesta_correcta': 'Grandfather and Grandson'},\n",
       " {'pregunta': 'In &quot;Call Of Duty: Zombies&quot;, what is the name of the machine that upgrades weapons?',\n",
       "  'respuestas': ['Gersch Device', 'Wunderfizz', 'Pack-A-Punch', 'Mule Kick'],\n",
       "  'respuesta_correcta': 'Pack-A-Punch'}]"
      ]
     },
     "execution_count": 5,
     "metadata": {},
     "output_type": "execute_result"
    }
   ],
   "source": [
    "import random\n",
    "import requests\n",
    "\n",
    "# 1. Realizar una llamada a la API\n",
    "url = 'https://opentdb.com/api.php?amount=5&difficulty=easy&type=multiple'\n",
    "\n",
    "response = requests.get(url)\n",
    "\n",
    "if response.status_code == 200:\n",
    "    api_preguntas = response.json()\n",
    "    print(api_preguntas)\n",
    "else:\n",
    "    print('Error:', response.status_code)\n",
    "\n",
    "# 2. Transformar los datos de la API en una lista de diccionarios\n",
    "def transform_data(data):\n",
    "    formatted_list = []\n",
    "    for item in data['results']:\n",
    "        all_answers = item['incorrect_answers'] + [item['correct_answer']]\n",
    "        random.shuffle(all_answers)\n",
    "    \n",
    "        question_map = {\n",
    "        \"pregunta\": item['question'].replace('&#039;', \"'\").replace('&amp;', '&'),\n",
    "        \"respuestas\": all_answers,\n",
    "        \"respuesta_correcta\": item['correct_answer']\n",
    "    }\n",
    "        formatted_list.append(question_map)\n",
    "    return formatted_list\n",
    "\n",
    "# 3. Mostrar los datos en pantalla\n",
    "formatted_api_data = transform_data(api_preguntas)\n",
    "formatted_api_data\n"
   ]
  }
 ],
 "metadata": {
  "kernelspec": {
   "display_name": "Python 3",
   "language": "python",
   "name": "python3"
  },
  "language_info": {
   "codemirror_mode": {
    "name": "ipython",
    "version": 3
   },
   "file_extension": ".py",
   "mimetype": "text/x-python",
   "name": "python",
   "nbconvert_exporter": "python",
   "pygments_lexer": "ipython3",
   "version": "3.10.6"
  }
 },
 "nbformat": 4,
 "nbformat_minor": 2
}
