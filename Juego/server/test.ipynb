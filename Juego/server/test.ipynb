{
 "cells": [
  {
   "cell_type": "code",
   "execution_count": 3,
   "metadata": {},
   "outputs": [],
   "source": [
    "from api import get_api_data\n",
    "\n",
    "questions = get_api_data()"
   ]
  },
  {
   "cell_type": "code",
   "execution_count": 4,
   "metadata": {},
   "outputs": [
    {
     "data": {
      "text/plain": [
       "[{'pregunta': 'At the end of the 2001 film \"Rat Race\", whose concert do the contestants crash?',\n",
       "  'respuestas': ['Sum 41', 'Smash Mouth', 'Bowling for Soup', 'Linkin Park'],\n",
       "  'respuesta_correcta': 'Smash Mouth'},\n",
       " {'pregunta': \"In the Assassin's Creed series,what was the name of Desmond Miles given by Abstergo?\",\n",
       "  'respuestas': ['Subject 16',\n",
       "   'Subject 17',\n",
       "   \"Alta&iuml;r Ibn-La'Ahad\",\n",
       "   'Subject 18'],\n",
       "  'respuesta_correcta': 'Subject 17'},\n",
       " {'pregunta': 'Which type of rock is created by intense heat AND pressure?',\n",
       "  'respuestas': ['Metamorphic', 'Igneous', 'Diamond', 'Sedimentary'],\n",
       "  'respuesta_correcta': 'Metamorphic'},\n",
       " {'pregunta': 'Which of the following is not a type of computer mouse?',\n",
       "  'respuestas': ['Trackball mouse',\n",
       "   'Smoothie mouse',\n",
       "   'Optical mouse',\n",
       "   'Drum mouse'],\n",
       "  'respuesta_correcta': 'Smoothie mouse'},\n",
       " {'pregunta': 'What is the Polish city known to Germans as Danzig?',\n",
       "  'respuestas': ['Warsaw', 'Gdańsk', 'Zakopane', 'Poznań'],\n",
       "  'respuesta_correcta': 'Gdańsk'}]"
      ]
     },
     "execution_count": 4,
     "metadata": {},
     "output_type": "execute_result"
    }
   ],
   "source": [
    "questions"
   ]
  },
  {
   "cell_type": "code",
   "execution_count": 1,
   "metadata": {},
   "outputs": [
    {
     "ename": "NameError",
     "evalue": "name 'questions' is not defined",
     "output_type": "error",
     "traceback": [
      "\u001b[0;31m---------------------------------------------------------------------------\u001b[0m",
      "\u001b[0;31mNameError\u001b[0m                                 Traceback (most recent call last)",
      "Input \u001b[0;32mIn [1]\u001b[0m, in \u001b[0;36m<module>\u001b[0;34m\u001b[0m\n\u001b[0;32m----> 1\u001b[0m \u001b[38;5;28;01mfor\u001b[39;00m question \u001b[38;5;129;01min\u001b[39;00m \u001b[43mquestions\u001b[49m:\n\u001b[1;32m      2\u001b[0m     message \u001b[38;5;241m=\u001b[39m \u001b[38;5;124mf\u001b[39m\u001b[38;5;124m\"\u001b[39m\u001b[38;5;124mQuestion: \u001b[39m\u001b[38;5;132;01m{\u001b[39;00mquestion[\u001b[38;5;124m'\u001b[39m\u001b[38;5;124mpregunta\u001b[39m\u001b[38;5;124m'\u001b[39m]\u001b[38;5;132;01m}\u001b[39;00m\u001b[38;5;130;01m\\n\u001b[39;00m\u001b[38;5;124m\"\u001b[39m\n\u001b[1;32m      3\u001b[0m     \u001b[38;5;66;03m# pon las respuestas de la siguiente forma:\u001b[39;00m\n\u001b[1;32m      4\u001b[0m     \u001b[38;5;66;03m# 1. respuesta1\u001b[39;00m\n\u001b[1;32m      5\u001b[0m     \u001b[38;5;66;03m# 2. respuesta2\u001b[39;00m\n\u001b[1;32m      6\u001b[0m     \u001b[38;5;66;03m# 3. respuesta3\u001b[39;00m\n\u001b[1;32m      7\u001b[0m     \u001b[38;5;66;03m# 4. respuesta4\u001b[39;00m\n",
      "\u001b[0;31mNameError\u001b[0m: name 'questions' is not defined"
     ]
    }
   ],
   "source": [
    "for question in questions:\n",
    "    message = f\"Question: {question['pregunta']}\\n\"\n",
    "    # pon las respuestas de la siguiente forma:\n",
    "    # 1. respuesta1\n",
    "    # 2. respuesta2\n",
    "    # 3. respuesta3\n",
    "    # 4. respuesta4\n",
    "\n",
    "   \n",
    "\n",
    "    \n",
    "    print(message)\n",
    "    \n"
   ]
  },
  {
   "cell_type": "code",
   "execution_count": 2,
   "metadata": {},
   "outputs": [
    {
     "name": "stdout",
     "output_type": "stream",
     "text": [
      "Collecting pytimedinput\n",
      "  Using cached pytimedinput-2.0.1-py3-none-any.whl (6.1 kB)\n",
      "Installing collected packages: pytimedinput\n",
      "Successfully installed pytimedinput-2.0.1\n"
     ]
    }
   ],
   "source": [
    "!pip3 install pytimedinput"
   ]
  },
  {
   "cell_type": "code",
   "execution_count": 3,
   "metadata": {},
   "outputs": [
    {
     "ename": "RuntimeError",
     "evalue": "timedInput() requires an interactive shell, cannot continue.",
     "output_type": "error",
     "traceback": [
      "\u001b[0;31m---------------------------------------------------------------------------\u001b[0m",
      "\u001b[0;31mRuntimeError\u001b[0m                              Traceback (most recent call last)",
      "Input \u001b[0;32mIn [3]\u001b[0m, in \u001b[0;36m<module>\u001b[0;34m\u001b[0m\n\u001b[1;32m      1\u001b[0m \u001b[38;5;28;01mfrom\u001b[39;00m \u001b[38;5;21;01mpytimedinput\u001b[39;00m \u001b[38;5;28;01mimport\u001b[39;00m timedInput\n\u001b[0;32m----> 2\u001b[0m userText, timedOut \u001b[38;5;241m=\u001b[39m \u001b[43mtimedInput\u001b[49m\u001b[43m(\u001b[49m\u001b[38;5;124;43m\"\u001b[39;49m\u001b[38;5;124;43mPlease, do enter something: \u001b[39;49m\u001b[38;5;124;43m\"\u001b[39;49m\u001b[43m)\u001b[49m\n\u001b[1;32m      3\u001b[0m \u001b[38;5;28;01mif\u001b[39;00m(timedOut):\n\u001b[1;32m      4\u001b[0m     \u001b[38;5;28mprint\u001b[39m(\u001b[38;5;124m\"\u001b[39m\u001b[38;5;124mTimed out when waiting for input.\u001b[39m\u001b[38;5;124m\"\u001b[39m)\n",
      "File \u001b[0;32m~/miniforge3/envs/pandasenv/lib/python3.10/site-packages/pytimedinput/pytimedinput.py:32\u001b[0m, in \u001b[0;36mtimedInput\u001b[0;34m(prompt, timeout, resetOnInput, maxLength, allowCharacters, endCharacters)\u001b[0m\n\u001b[1;32m     30\u001b[0m \u001b[38;5;28;01mif\u001b[39;00m(\u001b[38;5;28mlen\u001b[39m(endCharacters) \u001b[38;5;241m==\u001b[39m \u001b[38;5;241m0\u001b[39m):\n\u001b[1;32m     31\u001b[0m     \u001b[38;5;28;01mreturn\u001b[39;00m \u001b[38;5;124m\"\u001b[39m\u001b[38;5;124m\"\u001b[39m, \u001b[38;5;28;01mFalse\u001b[39;00m\n\u001b[0;32m---> 32\u001b[0m \u001b[38;5;28;01mreturn\u001b[39;00m \u001b[43m__timedInput\u001b[49m\u001b[43m(\u001b[49m\u001b[43mprompt\u001b[49m\u001b[43m,\u001b[49m\u001b[43m \u001b[49m\u001b[43mtimeout\u001b[49m\u001b[43m,\u001b[49m\u001b[43m \u001b[49m\u001b[43mresetOnInput\u001b[49m\u001b[43m,\u001b[49m\u001b[43m \u001b[49m\u001b[43mmaxLength\u001b[49m\u001b[43m,\u001b[49m\u001b[43m \u001b[49m\u001b[43mallowCharacters\u001b[49m\u001b[43m,\u001b[49m\u001b[43m \u001b[49m\u001b[43mendCharacters\u001b[49m\u001b[43m)\u001b[49m\n",
      "File \u001b[0;32m~/miniforge3/envs/pandasenv/lib/python3.10/site-packages/pytimedinput/pytimedinput.py:104\u001b[0m, in \u001b[0;36m__timedInput\u001b[0;34m(prompt, timeout, resetOnInput, maxLength, allowCharacters, endCharacters, inputType)\u001b[0m\n\u001b[1;32m    101\u001b[0m         \u001b[38;5;28;01mreturn\u001b[39;00m sys\u001b[38;5;241m.\u001b[39mstdin\u001b[38;5;241m.\u001b[39mread(\u001b[38;5;241m1\u001b[39m)\n\u001b[1;32m    103\u001b[0m \u001b[38;5;28;01mif\u001b[39;00m(\u001b[38;5;129;01mnot\u001b[39;00m sys\u001b[38;5;241m.\u001b[39m__stdin__\u001b[38;5;241m.\u001b[39misatty()):\n\u001b[0;32m--> 104\u001b[0m     \u001b[38;5;28;01mraise\u001b[39;00m \u001b[38;5;167;01mRuntimeError\u001b[39;00m(\n\u001b[1;32m    105\u001b[0m         \u001b[38;5;124m\"\u001b[39m\u001b[38;5;124mtimedInput() requires an interactive shell, cannot continue.\u001b[39m\u001b[38;5;124m\"\u001b[39m)\n\u001b[1;32m    106\u001b[0m \u001b[38;5;28;01melse\u001b[39;00m:\n\u001b[1;32m    107\u001b[0m     __savedConsoleSettings \u001b[38;5;241m=\u001b[39m __getStdoutSettings()\n",
      "\u001b[0;31mRuntimeError\u001b[0m: timedInput() requires an interactive shell, cannot continue."
     ]
    }
   ],
   "source": [
    "from pytimedinput import timedInput\n",
    "userText, timedOut = timedInput(\"Please, do enter something: \")\n",
    "if(timedOut):\n",
    "    print(\"Timed out when waiting for input.\")\n",
    "    print(f\"User-input so far: '{userText}'\")\n",
    "else:\n",
    "    print(f\"User-input: '{userText}'\")"
   ]
  }
 ],
 "metadata": {
  "kernelspec": {
   "display_name": "pandasenv",
   "language": "python",
   "name": "python3"
  },
  "language_info": {
   "codemirror_mode": {
    "name": "ipython",
    "version": 3
   },
   "file_extension": ".py",
   "mimetype": "text/x-python",
   "name": "python",
   "nbconvert_exporter": "python",
   "pygments_lexer": "ipython3",
   "version": "3.10.1"
  }
 },
 "nbformat": 4,
 "nbformat_minor": 2
}
