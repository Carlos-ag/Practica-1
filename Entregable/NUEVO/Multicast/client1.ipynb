{
 "cells": [
  {
   "cell_type": "code",
   "execution_count": 3,
   "metadata": {},
   "outputs": [
    {
     "name": "stdout",
     "output_type": "stream",
     "text": [
      "Received message:  Game Starts Now!\n",
      "Received message:  Question 1 starts now!\n",
      "\n",
      "Received message:  Question ends!\n",
      "\n",
      "Received message:  Question ranking:\n",
      "Received message:  Carlos: 90\n",
      "Received message:  Ana: 89\n",
      "Received message:  Juan: 41\n",
      "Received message:  Maria: 29\n",
      "Received message:  Pedro: 28\n",
      "Received message:  Question 2 starts now!\n",
      "\n",
      "Received message:  Carlos: 136\n",
      "Received message:  Pedro: 125\n",
      "Received message:  Ana: 116\n",
      "Received message:  Maria: 96\n",
      "Received message:  Juan: 69\n",
      "Received message:  Question 3 starts now!\n",
      "\n",
      "Received message:  Maria: 187\n",
      "Received message:  Ana: 185\n",
      "Received message:  Pedro: 183\n",
      "Received message:  Carlos: 153\n",
      "Received message:  Juan: 129\n",
      "Received message:  User Pedro disconnected!\n",
      "Received message:  Question 4 starts now!\n",
      "\n",
      "Received message:  Ana: 275\n",
      "Received message:  Maria: 264\n",
      "Received message:  Carlos: 220\n",
      "Received message:  Juan: 193\n",
      "Received message:  User Ana disconnected!\n",
      "Received message:  Question 5 starts now!\n",
      "\n",
      "Received message:  Maria: 330\n",
      "Received message:  Carlos: 281\n",
      "Received message:  Juan: 210\n",
      "Received message:  Winner: Maria\n",
      "Received message:  Game Ends!\n",
      "Received message:  Carlos: 74\n",
      "Received message:  Maria: 67\n",
      "Received message:  Pedro: 62\n",
      "Received message:  Juan: 49\n",
      "Received message:  Ana: 28\n",
      "Received message:  Maria: 132\n",
      "Received message:  Carlos: 101\n",
      "Received message:  Juan: 98\n",
      "Received message:  Ana: 87\n",
      "Received message:  User Carlos disconnected!\n",
      "Received message:  Maria: 210\n",
      "Received message:  Juan: 143\n",
      "Received message:  Ana: 115\n",
      "Received message:  Maria: 228\n",
      "Received message:  Juan: 224\n",
      "Received message:  Ana: 207\n",
      "Received message:  Ana: 263\n",
      "Received message:  Juan: 239\n",
      "Received message:  Maria: 234\n",
      "Received message:  Winner: Ana\n"
     ]
    },
    {
     "ename": "KeyboardInterrupt",
     "evalue": "",
     "output_type": "error",
     "traceback": [
      "\u001b[0;31m---------------------------------------------------------------------------\u001b[0m",
      "\u001b[0;31mKeyboardInterrupt\u001b[0m                         Traceback (most recent call last)",
      "Input \u001b[0;32mIn [3]\u001b[0m, in \u001b[0;36m<module>\u001b[0;34m\u001b[0m\n\u001b[1;32m     19\u001b[0m \u001b[38;5;66;03m# recibe los mensajes del grupo multicast\u001b[39;00m\n\u001b[1;32m     20\u001b[0m \u001b[38;5;28;01mwhile\u001b[39;00m \u001b[38;5;28;01mTrue\u001b[39;00m:\n\u001b[0;32m---> 21\u001b[0m     data, addr \u001b[38;5;241m=\u001b[39m \u001b[43msock\u001b[49m\u001b[38;5;241;43m.\u001b[39;49m\u001b[43mrecvfrom\u001b[49m\u001b[43m(\u001b[49m\u001b[38;5;241;43m1024\u001b[39;49m\u001b[43m)\u001b[49m\n\u001b[1;32m     22\u001b[0m     \u001b[38;5;28;01mif\u001b[39;00m data \u001b[38;5;129;01mnot\u001b[39;00m \u001b[38;5;129;01min\u001b[39;00m received_messages:\n\u001b[1;32m     23\u001b[0m         received_messages\u001b[38;5;241m.\u001b[39mappend(data)\n",
      "\u001b[0;31mKeyboardInterrupt\u001b[0m: "
     ]
    }
   ],
   "source": [
    "import socket\n",
    "import struct\n",
    "\n",
    "MCAST_GRP = '224.1.1.1'\n",
    "MCAST_PORT = 5007\n",
    "\n",
    "# se crea un socket de tipo UDP\n",
    "sock = socket.socket(socket.AF_INET, socket.SOCK_DGRAM, socket.IPPROTO_UDP)\n",
    "sock.setsockopt(socket.SOL_SOCKET, socket.SO_REUSEADDR, 1)\n",
    "sock.setsockopt(socket.SOL_SOCKET, socket.SO_REUSEPORT, 1)\n",
    "sock.bind(('', MCAST_PORT))\n",
    "\n",
    "# se une al grupo multicast\n",
    "mreq = struct.pack(\"4sl\", socket.inet_aton(MCAST_GRP), socket.INADDR_ANY)\n",
    "sock.setsockopt(socket.IPPROTO_IP, socket.IP_ADD_MEMBERSHIP, mreq)\n",
    "\n",
    "received_messages = []\n",
    "\n",
    "# recibe los mensajes del grupo multicast\n",
    "while True:\n",
    "    data, addr = sock.recvfrom(1024)\n",
    "    if data not in received_messages:\n",
    "        received_messages.append(data)\n",
    "        print(\"Received message: \", data.decode())\n"
   ]
  }
 ],
 "metadata": {
  "kernelspec": {
   "display_name": "pandasenv",
   "language": "python",
   "name": "python3"
  },
  "language_info": {
   "codemirror_mode": {
    "name": "ipython",
    "version": 3
   },
   "file_extension": ".py",
   "mimetype": "text/x-python",
   "name": "python",
   "nbconvert_exporter": "python",
   "pygments_lexer": "ipython3",
   "version": "3.10.1"
  }
 },
 "nbformat": 4,
 "nbformat_minor": 2
}
