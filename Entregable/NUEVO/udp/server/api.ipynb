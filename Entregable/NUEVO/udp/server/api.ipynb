{
 "cells": [
  {
   "cell_type": "code",
   "execution_count": 1,
   "metadata": {},
   "outputs": [],
   "source": [
    "import random\n",
    "import requests\n",
    "\n",
    "def get_api_data():\n",
    "    # 1. Realizar una llamada a la API\n",
    "    url = 'https://opentdb.com/api.php?amount=5&difficulty=easy&type=multiple'\n",
    "\n",
    "    response = requests.get(url)\n",
    "\n",
    "    if response.status_code == 200:\n",
    "        api_preguntas = response.json()\n",
    "        return transform_data(api_preguntas)\n",
    "    else:\n",
    "        print('Error:', response.status_code)\n",
    "        return []\n",
    "\n",
    "    \n",
    "\n",
    "\n",
    "\n",
    "# 2. Transformar los datos de la API en una lista de diccionarios\n",
    "def transform_data(data):\n",
    "    formatted_list = []\n",
    "    replace_map = {\n",
    "        '&#039;': \"'\",\n",
    "        '&amp;': '&',\n",
    "        '&quot;': '\"',\n",
    "        '&lt;': '<',\n",
    "        '&gt;': '>'\n",
    "    }\n",
    "    for item in data['results']:\n",
    "        all_answers = item['incorrect_answers'] + [item['correct_answer']]\n",
    "        random.shuffle(all_answers)\n",
    "\n",
    "        question = item['question']\n",
    "        correct_answer = item['correct_answer']\n",
    "\n",
    "        for key, value in replace_map.items():\n",
    "            question = question.replace(key, value)\n",
    "            correct_answer = correct_answer.replace(key, value)\n",
    "            for i, answer in enumerate(all_answers):\n",
    "                all_answers[i] = all_answers[i].replace(key, value)\n",
    "\n",
    "    \n",
    "        question_map = {\n",
    "        \"pregunta\": question,\n",
    "        \"respuestas\": all_answers,\n",
    "        \"respuesta_correcta\": correct_answer\n",
    "    }\n",
    "        formatted_list.append(question_map)\n",
    "    return formatted_list"
   ]
  },
  {
   "cell_type": "code",
   "execution_count": 2,
   "metadata": {},
   "outputs": [
    {
     "data": {
      "text/plain": [
       "[{'pregunta': 'In \"The Melancholy of Haruhi Suzumiya\" series, the SOS Brigade club leader is unknowingly treated as a(n) __ by her peers.',\n",
       "  'respuestas': ['Time Traveler', 'Alien', 'Esper', 'God'],\n",
       "  'respuesta_correcta': 'God'},\n",
       " {'pregunta': 'Automobiles produced by Tesla Motors operate on which form of energy?',\n",
       "  'respuestas': ['Diesel', 'Electricity', 'Nuclear', 'Gasoline'],\n",
       "  'respuesta_correcta': 'Electricity'},\n",
       " {'pregunta': 'Which Van Gogh painting depicts the view from his asylum in Saint-R&eacute;my-de-Provence in southern France?',\n",
       "  'respuestas': ['The Sower with Setting Sun',\n",
       "   'Wheatfields with Crows',\n",
       "   'The Starry Night',\n",
       "   'The Church at Auvers'],\n",
       "  'respuesta_correcta': 'The Starry Night'},\n",
       " {'pregunta': 'The band Muse released their first album, Showbiz, in what year?',\n",
       "  'respuestas': ['2001', '2000', '1999', '1998'],\n",
       "  'respuesta_correcta': '1999'},\n",
       " {'pregunta': 'Which of the following Pacific Islander countries is ruled by a constitutional monarchy?',\n",
       "  'respuestas': ['Tonga', 'Palau', 'Fiji', 'Kiribati'],\n",
       "  'respuesta_correcta': 'Tonga'}]"
      ]
     },
     "execution_count": 2,
     "metadata": {},
     "output_type": "execute_result"
    }
   ],
   "source": [
    "get_api_data()"
   ]
  }
 ],
 "metadata": {
  "kernelspec": {
   "display_name": "pandasenv",
   "language": "python",
   "name": "python3"
  },
  "language_info": {
   "codemirror_mode": {
    "name": "ipython",
    "version": 3
   },
   "file_extension": ".py",
   "mimetype": "text/x-python",
   "name": "python",
   "nbconvert_exporter": "python",
   "pygments_lexer": "ipython3",
   "version": "3.10.1"
  }
 },
 "nbformat": 4,
 "nbformat_minor": 2
}
