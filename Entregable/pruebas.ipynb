{
 "cells": [
  {
   "cell_type": "code",
   "execution_count": 2,
   "metadata": {},
   "outputs": [
    {
     "name": "stdout",
     "output_type": "stream",
     "text": [
      "{'response_code': 0, 'results': [{'type': 'multiple', 'difficulty': 'easy', 'category': 'Entertainment: Video Games', 'question': 'Who is the leader of the Brotherhood of Nod in the Command and Conquer series?', 'correct_answer': 'Kane', 'incorrect_answers': ['Joseph Stalin', 'CABAL', 'Yuri']}, {'type': 'multiple', 'difficulty': 'easy', 'category': 'Vehicles', 'question': 'What UK Train does NOT go over 125MPH?', 'correct_answer': 'Sprinter', 'incorrect_answers': ['Class 43', 'Javelin', 'Pendolino']}, {'type': 'multiple', 'difficulty': 'easy', 'category': 'Entertainment: Music', 'question': 'Who is the lead singer of the British pop rock band Coldplay?', 'correct_answer': 'Chris Martin', 'incorrect_answers': ['Jonny Buckland', 'Guy Berryman', 'Will Champion']}, {'type': 'multiple', 'difficulty': 'easy', 'category': 'Geography', 'question': 'What is the capital of Scotland?', 'correct_answer': 'Edinburgh', 'incorrect_answers': ['Glasgow', 'Dundee', 'London']}, {'type': 'multiple', 'difficulty': 'easy', 'category': 'Entertainment: Video Games', 'question': 'Which of these is NOT a player class in Team Fortress 2?', 'correct_answer': 'Healer', 'incorrect_answers': ['Demoman', 'Pyro', 'Spy']}]}\n"
     ]
    },
    {
     "data": {
      "text/plain": [
       "[{'pregunta': 'Who is the leader of the Brotherhood of Nod in the Command and Conquer series?',\n",
       "  'respuestas': ['CABAL', 'Yuri', 'Joseph Stalin', 'Kane'],\n",
       "  'respuesta_correcta': 'Kane'},\n",
       " {'pregunta': 'What UK Train does NOT go over 125MPH?',\n",
       "  'respuestas': ['Pendolino', 'Javelin', 'Class 43', 'Sprinter'],\n",
       "  'respuesta_correcta': 'Sprinter'},\n",
       " {'pregunta': 'Who is the lead singer of the British pop rock band Coldplay?',\n",
       "  'respuestas': ['Guy Berryman',\n",
       "   'Chris Martin',\n",
       "   'Will Champion',\n",
       "   'Jonny Buckland'],\n",
       "  'respuesta_correcta': 'Chris Martin'},\n",
       " {'pregunta': 'What is the capital of Scotland?',\n",
       "  'respuestas': ['Dundee', 'Edinburgh', 'London', 'Glasgow'],\n",
       "  'respuesta_correcta': 'Edinburgh'},\n",
       " {'pregunta': 'Which of these is NOT a player class in Team Fortress 2?',\n",
       "  'respuestas': ['Healer', 'Pyro', 'Demoman', 'Spy'],\n",
       "  'respuesta_correcta': 'Healer'}]"
      ]
     },
     "execution_count": 2,
     "metadata": {},
     "output_type": "execute_result"
    }
   ],
   "source": [
    "from api import get_api_data\n",
    "\n",
    "get_api_data()"
   ]
  }
 ],
 "metadata": {
  "kernelspec": {
   "display_name": "Python 3",
   "language": "python",
   "name": "python3"
  },
  "language_info": {
   "codemirror_mode": {
    "name": "ipython",
    "version": 3
   },
   "file_extension": ".py",
   "mimetype": "text/x-python",
   "name": "python",
   "nbconvert_exporter": "python",
   "pygments_lexer": "ipython3",
   "version": "3.10.1"
  }
 },
 "nbformat": 4,
 "nbformat_minor": 2
}
