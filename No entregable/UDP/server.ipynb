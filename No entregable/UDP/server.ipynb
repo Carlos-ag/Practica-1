{
 "cells": [
  {
   "cell_type": "code",
   "execution_count": 12,
   "metadata": {},
   "outputs": [
    {
     "name": "stdout",
     "output_type": "stream",
     "text": [
      "b\"Hello Server, I'm client 831\"\n",
      "b\"Hello Server, I'm client 99\"\n",
      "b\"Hello Server, I'm client 663\"\n",
      "b\"Hello Server, I'm client 317\"\n",
      "b\"Hello Server, I'm client 842\"\n"
     ]
    }
   ],
   "source": [
    "import socket\n",
    "\n",
    "socket = socket.socket(family=socket.AF_INET, type=socket.SOCK_DGRAM)\n",
    "socket.bind((\"127.0.0.1\", 6780))\n",
    "\n",
    "while True:\n",
    "    \n",
    "    bytes_rx = socket.recvfrom(1024)\n",
    "    message = bytes_rx[0]\n",
    "    address = bytes_rx[1]\n",
    "    print(message)\n",
    "    number_client = message.decode().split(\"client \")[1]\n",
    "    msg = \"Hello Client \" + str(number_client)\n",
    "    bytes_tx= str.encode(msg)\n",
    "\n",
    "\n",
    "    socket.sendto(bytes_tx, address) # devuelve el numero de caracteres enviados\n",
    "\n"
   ]
  }
 ],
 "metadata": {
  "kernelspec": {
   "display_name": "Python 3",
   "language": "python",
   "name": "python3"
  },
  "language_info": {
   "codemirror_mode": {
    "name": "ipython",
    "version": 3
   },
   "file_extension": ".py",
   "mimetype": "text/x-python",
   "name": "python",
   "nbconvert_exporter": "python",
   "pygments_lexer": "ipython3",
   "version": "3.11.7"
  }
 },
 "nbformat": 4,
 "nbformat_minor": 2
}
