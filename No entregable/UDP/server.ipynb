{
 "cells": [
  {
   "cell_type": "code",
   "execution_count": 10,
   "metadata": {},
   "outputs": [
    {
     "name": "stdout",
     "output_type": "stream",
     "text": [
      "('Hola intento', 375)\n",
      "Message received: Hola intento\n",
      "Client number: 375\n",
      "Client address: ('127.0.0.1', 50373)\n",
      "Sending message to client: Hello Client 375\n"
     ]
    },
    {
     "ename": "KeyboardInterrupt",
     "evalue": "",
     "output_type": "error",
     "traceback": [
      "\u001b[0;31m---------------------------------------------------------------------------\u001b[0m",
      "\u001b[0;31mKeyboardInterrupt\u001b[0m                         Traceback (most recent call last)",
      "Cell \u001b[0;32mIn[10], line 22\u001b[0m\n\u001b[1;32m     18\u001b[0m socket\u001b[38;5;241m.\u001b[39mbind((\u001b[38;5;124m\"\u001b[39m\u001b[38;5;124m127.0.0.1\u001b[39m\u001b[38;5;124m\"\u001b[39m, port_number))\n\u001b[1;32m     20\u001b[0m \u001b[38;5;28;01mwhile\u001b[39;00m \u001b[38;5;28;01mTrue\u001b[39;00m:\n\u001b[0;32m---> 22\u001b[0m     bytes_rx \u001b[38;5;241m=\u001b[39m \u001b[43msocket\u001b[49m\u001b[38;5;241;43m.\u001b[39;49m\u001b[43mrecvfrom\u001b[49m\u001b[43m(\u001b[49m\u001b[38;5;241;43m1024\u001b[39;49m\u001b[43m)\u001b[49m\n\u001b[1;32m     23\u001b[0m     received_message \u001b[38;5;241m=\u001b[39m pickle\u001b[38;5;241m.\u001b[39mloads(bytes_rx[\u001b[38;5;241m0\u001b[39m])\n\u001b[1;32m     24\u001b[0m     \u001b[38;5;28mprint\u001b[39m(received_message)\n",
      "\u001b[0;31mKeyboardInterrupt\u001b[0m: "
     ]
    }
   ],
   "source": [
    "import socket\n",
    "import pickle\n",
    "\n",
    "socket = socket.socket(family=socket.AF_INET, type=socket.SOCK_DGRAM)\n",
    "\n",
    "valid_port = False\n",
    "while not valid_port:\n",
    "    port_number = input(\"Enter the port number: \")\n",
    "    try:\n",
    "        port_number = int(port_number)\n",
    "        if port_number > 0 and port_number < 65535:\n",
    "            valid_port = True\n",
    "        else:\n",
    "            print(\"Invalid port number\")\n",
    "    except:\n",
    "        print(\"Invalid port number\")\n",
    "\n",
    "socket.bind((\"127.0.0.1\", port_number))\n",
    "\n",
    "while True:\n",
    "    \n",
    "    bytes_rx = socket.recvfrom(1024)\n",
    "    received_message = pickle.loads(bytes_rx[0])\n",
    "    print(received_message)\n",
    "    address = bytes_rx[1]\n",
    "\n",
    "    message = received_message[0]\n",
    "    number_client = received_message[1]\n",
    "\n",
    "    print(\"Message received: \" + message)\n",
    "    print(\"Client number: \" + str(number_client))\n",
    "    print(\"Client address: \" + str(address))\n",
    "\n",
    "    msg = \"Hello Client \" + str(number_client)\n",
    "    bytes_tx= str.encode(msg)\n",
    "\n",
    "    print(\"Sending message to client: \" + msg)\n",
    "\n",
    "\n",
    "    socket.sendto(bytes_tx, address) # devuelve el numero de caracteres enviados\n",
    "\n"
   ]
  }
 ],
 "metadata": {
  "kernelspec": {
   "display_name": "Python 3",
   "language": "python",
   "name": "python3"
  },
  "language_info": {
   "codemirror_mode": {
    "name": "ipython",
    "version": 3
   },
   "file_extension": ".py",
   "mimetype": "text/x-python",
   "name": "python",
   "nbconvert_exporter": "python",
   "pygments_lexer": "ipython3",
   "version": "3.11.7"
  }
 },
 "nbformat": 4,
 "nbformat_minor": 2
}
