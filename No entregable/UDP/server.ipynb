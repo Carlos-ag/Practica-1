{
 "cells": [
  {
   "cell_type": "code",
   "execution_count": 18,
   "metadata": {},
   "outputs": [
    {
     "name": "stdout",
     "output_type": "stream",
     "text": [
      "('Hola', 1)\n",
      "Message received: Hola\n",
      "Client number: 1\n",
      "Client address: ('127.0.0.1', 65374)\n",
      "1706526310.7758698\n",
      "Sending message to client: Hello Client 1\n"
     ]
    }
   ],
   "source": [
    "import socket\n",
    "import pickle\n",
    "import time\n",
    "\n",
    "socket = socket.socket(family=socket.AF_INET, type=socket.SOCK_DGRAM)\n",
    "\n",
    "\n",
    "\n",
    "socket.bind((\"127.0.0.1\", 6969))\n",
    "\n",
    "while True:\n",
    "    \n",
    "    bytes_rx = socket.recvfrom(1024)\n",
    "    received_message = pickle.loads(bytes_rx[0])\n",
    "    print(received_message)\n",
    "    address = bytes_rx[1]\n",
    "\n",
    "    message = received_message[0]\n",
    "    number_client = received_message[1]\n",
    "\n",
    "    print(\"Message received: \" + message)\n",
    "    print(\"Client number: \" + str(number_client))\n",
    "    print(\"Client address: \" + str(address))\n",
    "\n",
    "    msg = \"Hello Client \" + str(number_client)\n",
    "    print(time.time())\n",
    "    message_to_send = (msg, number_client, time.time())\n",
    "    bytes_tx= pickle.dumps(message_to_send)\n",
    "\n",
    "    print(\"Sending message to client: \" + msg)\n",
    "\n",
    "\n",
    "    socket.sendto(bytes_tx, address) # devuelve el numero de caracteres enviados\n",
    "\n"
   ]
  }
 ],
 "metadata": {
  "kernelspec": {
   "display_name": "Python 3",
   "language": "python",
   "name": "python3"
  },
  "language_info": {
   "codemirror_mode": {
    "name": "ipython",
    "version": 3
   },
   "file_extension": ".py",
   "mimetype": "text/x-python",
   "name": "python",
   "nbconvert_exporter": "python",
   "pygments_lexer": "ipython3",
   "version": "3.11.7"
  }
 },
 "nbformat": 4,
 "nbformat_minor": 2
}
