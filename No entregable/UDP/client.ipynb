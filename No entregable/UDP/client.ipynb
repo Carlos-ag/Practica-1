{
 "cells": [
  {
   "cell_type": "markdown",
   "metadata": {},
   "source": [
    "# Práctica 1:"
   ]
  },
  {
   "cell_type": "markdown",
   "metadata": {},
   "source": [
    "## Imports"
   ]
  },
  {
   "cell_type": "code",
   "execution_count": 24,
   "metadata": {},
   "outputs": [],
   "source": [
    "import socket\n",
    "import pickle\n",
    "import time\n",
    "import random\n",
    "from funciones import *"
   ]
  },
  {
   "cell_type": "markdown",
   "metadata": {},
   "source": [
    "## Constantes"
   ]
  },
  {
   "cell_type": "code",
   "execution_count": 25,
   "metadata": {},
   "outputs": [],
   "source": [
    "MAX_TIME_WAITING = 5"
   ]
  },
  {
   "cell_type": "markdown",
   "metadata": {},
   "source": [
    "## Funciones"
   ]
  },
  {
   "cell_type": "code",
   "execution_count": 39,
   "metadata": {},
   "outputs": [
    {
     "name": "stdout",
     "output_type": "stream",
     "text": [
      "Sending to server:  ('Hola', 1)\n",
      "Waiting for response...\n",
      "RX:  Hello Client 1\n",
      "Time when sent:  1706526310.775875\n",
      "Time when received:  1706526310.776036\n",
      "Time elapsed in seconds:  0.0001609325408935547\n"
     ]
    }
   ],
   "source": [
    "import socket\n",
    "import pickle\n",
    "import time\n",
    "\n",
    "# Funciones de ayuda (asegúrate de definirlas o descomentarlas si ya las tienes)\n",
    "# ip_address = ask_IP_address()\n",
    "# port_number = ask_port_number()\n",
    "# number_client = ask_number_client()\n",
    "# msg = ask_message()\n",
    "\n",
    "# Datos de prueba\n",
    "ip_address = \"127.0.0.1\"\n",
    "port_number = 6969\n",
    "number_client = 1\n",
    "msg = \"Hola\"\n",
    "\n",
    "send_to_server = (msg, number_client)\n",
    "bytes_tx = pickle.dumps(send_to_server)\n",
    "\n",
    "server_address = (ip_address, port_number)\n",
    "sock = socket.socket(family=socket.AF_INET, type=socket.SOCK_DGRAM)\n",
    "\n",
    "# Configura el timeout del socket a 10 segundos\n",
    "sock.settimeout(MAX_TIME_WAITING)\n",
    "\n",
    "print(\"Sending to server: \", send_to_server)\n",
    "sock.sendto(bytes_tx, server_address)\n",
    "\n",
    "try:\n",
    "    print(\"Waiting for response...\")\n",
    "    bytes_rx = sock.recvfrom(1024)\n",
    "    received = pickle.loads(bytes_rx[0])\n",
    "    time_when_received = time.time()\n",
    "    message = received[0]\n",
    "    number_client = received[1]\n",
    "    time_when_sent = received[2]\n",
    "    print(\"RX: \", message)\n",
    "    print(\"Time when sent: \", time_when_sent)\n",
    "    print(\"Time when received: \", time_when_received)\n",
    "    print(\"Time elapsed in seconds: \", time_when_received - time_when_sent)\n",
    "\n",
    "except socket.timeout:\n",
    "    print(\"No response received from server within 10 seconds.\")\n",
    "\n",
    "sock.close()\n"
   ]
  }
 ],
 "metadata": {
  "kernelspec": {
   "display_name": "pandasenv",
   "language": "python",
   "name": "python3"
  },
  "language_info": {
   "codemirror_mode": {
    "name": "ipython",
    "version": 3
   },
   "file_extension": ".py",
   "mimetype": "text/x-python",
   "name": "python",
   "nbconvert_exporter": "python",
   "pygments_lexer": "ipython3",
   "version": "3.11.7"
  }
 },
 "nbformat": 4,
 "nbformat_minor": 2
}
