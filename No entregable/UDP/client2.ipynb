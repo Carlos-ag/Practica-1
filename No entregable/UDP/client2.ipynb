{
 "cells": [
  {
   "cell_type": "code",
   "execution_count": 1,
   "metadata": {},
   "outputs": [
    {
     "name": "stdout",
     "output_type": "stream",
     "text": [
      "RX:  (b'Hello Client 112', ('127.0.0.1', 6969))\n"
     ]
    }
   ],
   "source": [
    "import socket\n",
    "import random\n",
    "\n",
    "msg = \"Hello Server, I'm client \" + str(random.randint(1, 1000))\n",
    "bytes_tx= str.encode(msg)\n",
    "\n",
    "valid_port = False\n",
    "while not valid_port:\n",
    "    port_number = input(\"Enter the port number: \")\n",
    "    try:\n",
    "        port_number = int(port_number)\n",
    "        if port_number > 0 and port_number < 65535:\n",
    "            valid_port = True\n",
    "        else:\n",
    "            print(\"Invalid port number\")\n",
    "    except:\n",
    "        print(\"Invalid port number\")\n",
    "\n",
    "\n",
    "# tenemos que conectarnos al mismo movil para que funciona\n",
    "# server_address = (\"192.168.57.70\", 6780)\n",
    "\n",
    "server_address = (\"127.0.0.1\", port_number)\n",
    "socket = socket.socket(family=socket.AF_INET, type=socket.SOCK_DGRAM)\n",
    "socket.sendto(bytes_tx, server_address)\n",
    "\n",
    "bytes_rx = socket.recvfrom(1024)\n",
    "print(\"RX: \", bytes_rx)\n",
    "socket.close()"
   ]
  }
 ],
 "metadata": {
  "kernelspec": {
   "display_name": "Python 3",
   "language": "python",
   "name": "python3"
  },
  "language_info": {
   "codemirror_mode": {
    "name": "ipython",
    "version": 3
   },
   "file_extension": ".py",
   "mimetype": "text/x-python",
   "name": "python",
   "nbconvert_exporter": "python",
   "pygments_lexer": "ipython3",
   "version": "3.11.7"
  }
 },
 "nbformat": 4,
 "nbformat_minor": 2
}
