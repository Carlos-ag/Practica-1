{
 "cells": [
  {
   "cell_type": "code",
   "execution_count": null,
   "metadata": {},
   "outputs": [],
   "source": [
    "import socket \n",
    "import sys\n",
    "\n",
    "# Create a TCP/IP socket\n",
    "sock = socket.socket(socket.AF_INET, socket.SOCK_STREAM)\n",
    "server_address = ('localhost', 6782)\n",
    "sock.connect(server_address)\n",
    "user_input=generate_long_message()\n",
    "print(user_input)\n",
    "sock.sendall(user_input.encode())\n",
    "print(\"hola\")\n",
    "data=sock.recv(1024).decode()\n",
    "print (\"RX: \",data)\n",
    "\n",
    "sock.close()"
   ]
  }
 ],
 "metadata": {
  "language_info": {
   "name": "python"
  }
 },
 "nbformat": 4,
 "nbformat_minor": 2
}
