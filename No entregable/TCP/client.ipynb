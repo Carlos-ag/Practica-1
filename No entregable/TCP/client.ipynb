{
 "cells": [
  {
   "cell_type": "code",
   "execution_count": null,
   "metadata": {},
   "outputs": [],
   "source": [
    "import socket \n",
    "import sys\n",
    "\n",
    "# Create a TCP/IP socket\n",
    "sock = socket.socket(socket.AF_INET, socket.SOCK_STREAM)\n",
    "server_address = ('localhost', 6782)\n",
    "sock.connect(server_address)\n",
    "user_input=generate_long_message()\n",
    "print(user_input)\n",
    "sock.sendall(user_input.encode())\n",
    "print(\"hola\")\n",
    "data=sock.recv(1024).decode()\n",
    "print (\"RX: \",data)\n",
    "\n",
    "sock.close()"
   ]
  }
 ],
 "metadata": {
  "kernelspec": {
   "display_name": "Python 3",
   "language": "python",
   "name": "python3"
  },
  "language_info": {
   "name": "python",
   "version": "3.11.7"
  }
 },
 "nbformat": 4,
 "nbformat_minor": 2
}
