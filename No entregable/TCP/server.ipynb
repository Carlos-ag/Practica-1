{
 "cells": [
  {
   "cell_type": "markdown",
   "metadata": {},
   "source": [
    "## Apartado 1"
   ]
  },
  {
   "cell_type": "code",
   "execution_count": 5,
   "metadata": {},
   "outputs": [
    {
     "name": "stdout",
     "output_type": "stream",
     "text": [
      "RX:  asdfj\n",
      "RX:  EXIT\n"
     ]
    }
   ],
   "source": [
    "import socket \n",
    "import sys\n",
    "\n",
    "# Create a TCP/IP socket\n",
    "sock = socket.socket(socket.AF_INET, socket.SOCK_STREAM)\n",
    "server_address = ('localhost', 6780)\n",
    "sock.bind (server_address)\n",
    "sock.listen (1)\n",
    "connection, client_address = sock.accept()\n",
    "data = \"\"\n",
    "while True:\n",
    "    data = connection.recv(1024) .decode()\n",
    "    print(\"RX: \",data)\n",
    "    if data == \"EXIT\":\n",
    "        connection.sendall(\"BYE!\".encode())\n",
    "        break\n",
    "    connection.sendall(\"Echo\".encode())\n",
    "\n",
    "connection.close()"
   ]
  },
  {
   "cell_type": "markdown",
   "metadata": {},
   "source": [
    "## Aaprtado 2"
   ]
  },
  {
   "cell_type": "code",
   "execution_count": 1,
   "metadata": {},
   "outputs": [],
   "source": [
    "MTU = 20"
   ]
  },
  {
   "cell_type": "code",
   "execution_count": 3,
   "metadata": {},
   "outputs": [
    {
     "name": "stdout",
     "output_type": "stream",
     "text": [
      "accept\n",
      "esperando\n",
      "esperando\n",
      "esperando\n",
      "esperando\n",
      "esperando\n",
      "RX:  s\n"
     ]
    }
   ],
   "source": [
    "import socket \n",
    "import sys\n",
    "\n",
    "# Create a TCP/IP socket\n",
    "sock = socket.socket(socket.AF_INET, socket.SOCK_STREAM)\n",
    "server_address = ('localhost', 6782)\n",
    "sock.bind (server_address)\n",
    "sock.listen ()\n",
    "print(\"accept\")\n",
    "connection, client_address = sock.accept()\n",
    "data = \"\"\n",
    "all_data = \"\"\n",
    "count = 0\n",
    "while True:\n",
    "    data = connection.recv(20).decode()\n",
    "    if (len(data) == 20):\n",
    "        all_data += data\n",
    "        count += 1\n",
    "        if (count %10 == 0):\n",
    "            print(count)\n",
    "    else:\n",
    "        print(\"RX: \",data)\n",
    "        break\n",
    "    \n",
    "connection.sendall(\"Bye\".encode())\n",
    "connection.close()"
   ]
  },
  {
   "cell_type": "markdown",
   "metadata": {},
   "source": [
    "## Apartado 3"
   ]
  },
  {
   "cell_type": "code",
   "execution_count": 1,
   "metadata": {},
   "outputs": [
    {
     "ename": "KeyboardInterrupt",
     "evalue": "",
     "output_type": "error",
     "traceback": [
      "\u001b[0;31m---------------------------------------------------------------------------\u001b[0m",
      "\u001b[0;31mKeyboardInterrupt\u001b[0m                         Traceback (most recent call last)",
      "Cell \u001b[0;32mIn[1], line 65\u001b[0m\n\u001b[1;32m     62\u001b[0m         connection, client_address \u001b[38;5;241m=\u001b[39m sock\u001b[38;5;241m.\u001b[39maccept()\n\u001b[1;32m     63\u001b[0m         handle_client(connection, client_address)\n\u001b[0;32m---> 65\u001b[0m \u001b[43mstart_server\u001b[49m\u001b[43m(\u001b[49m\u001b[38;5;124;43m'\u001b[39;49m\u001b[38;5;124;43mlocalhost\u001b[39;49m\u001b[38;5;124;43m'\u001b[39;49m\u001b[43m,\u001b[49m\u001b[43m \u001b[49m\u001b[38;5;241;43m6782\u001b[39;49m\u001b[43m)\u001b[49m\n",
      "Cell \u001b[0;32mIn[1], line 62\u001b[0m, in \u001b[0;36mstart_server\u001b[0;34m(address, port)\u001b[0m\n\u001b[1;32m     59\u001b[0m sock\u001b[38;5;241m.\u001b[39mlisten(\u001b[38;5;241m1\u001b[39m)\n\u001b[1;32m     61\u001b[0m \u001b[38;5;28;01mwhile\u001b[39;00m \u001b[38;5;28;01mTrue\u001b[39;00m:\n\u001b[0;32m---> 62\u001b[0m     connection, client_address \u001b[38;5;241m=\u001b[39m \u001b[43msock\u001b[49m\u001b[38;5;241;43m.\u001b[39;49m\u001b[43maccept\u001b[49m\u001b[43m(\u001b[49m\u001b[43m)\u001b[49m\n\u001b[1;32m     63\u001b[0m     handle_client(connection, client_address)\n",
      "File \u001b[0;32m/opt/homebrew/Cellar/python@3.11/3.11.7_1/Frameworks/Python.framework/Versions/3.11/lib/python3.11/socket.py:294\u001b[0m, in \u001b[0;36msocket.accept\u001b[0;34m(self)\u001b[0m\n\u001b[1;32m    287\u001b[0m \u001b[38;5;28;01mdef\u001b[39;00m \u001b[38;5;21maccept\u001b[39m(\u001b[38;5;28mself\u001b[39m):\n\u001b[1;32m    288\u001b[0m \u001b[38;5;250m    \u001b[39m\u001b[38;5;124;03m\"\"\"accept() -> (socket object, address info)\u001b[39;00m\n\u001b[1;32m    289\u001b[0m \n\u001b[1;32m    290\u001b[0m \u001b[38;5;124;03m    Wait for an incoming connection.  Return a new socket\u001b[39;00m\n\u001b[1;32m    291\u001b[0m \u001b[38;5;124;03m    representing the connection, and the address of the client.\u001b[39;00m\n\u001b[1;32m    292\u001b[0m \u001b[38;5;124;03m    For IP sockets, the address info is a pair (hostaddr, port).\u001b[39;00m\n\u001b[1;32m    293\u001b[0m \u001b[38;5;124;03m    \"\"\"\u001b[39;00m\n\u001b[0;32m--> 294\u001b[0m     fd, addr \u001b[38;5;241m=\u001b[39m \u001b[38;5;28;43mself\u001b[39;49m\u001b[38;5;241;43m.\u001b[39;49m\u001b[43m_accept\u001b[49m\u001b[43m(\u001b[49m\u001b[43m)\u001b[49m\n\u001b[1;32m    295\u001b[0m     sock \u001b[38;5;241m=\u001b[39m socket(\u001b[38;5;28mself\u001b[39m\u001b[38;5;241m.\u001b[39mfamily, \u001b[38;5;28mself\u001b[39m\u001b[38;5;241m.\u001b[39mtype, \u001b[38;5;28mself\u001b[39m\u001b[38;5;241m.\u001b[39mproto, fileno\u001b[38;5;241m=\u001b[39mfd)\n\u001b[1;32m    296\u001b[0m     \u001b[38;5;66;03m# Issue #7995: if no default timeout is set and the listening\u001b[39;00m\n\u001b[1;32m    297\u001b[0m     \u001b[38;5;66;03m# socket had a (non-zero) timeout, force the new socket in blocking\u001b[39;00m\n\u001b[1;32m    298\u001b[0m     \u001b[38;5;66;03m# mode to override platform-specific socket flags inheritance.\u001b[39;00m\n",
      "\u001b[0;31mKeyboardInterrupt\u001b[0m: "
     ]
    }
   ],
   "source": [
    "import socket\n",
    "import os\n",
    "\n",
    "# Registro de archivos bloqueados\n",
    "locked_files = {}\n",
    "\n",
    "def handle_get(connection, filename):\n",
    "    if os.path.exists(filename):\n",
    "        with open(filename, \"rb\") as file:\n",
    "            connection.sendall(file.read())\n",
    "    else:\n",
    "        connection.sendall(b\"ERROR: Archivo no encontrado\")\n",
    "\n",
    "def handle_put(connection, filename):\n",
    "    with open(filename, \"wb\") as file:\n",
    "        while True:\n",
    "            data = connection.recv(1024)\n",
    "            if not data:\n",
    "                break\n",
    "            file.write(data)\n",
    "\n",
    "def handle_lock(connection, filename, client_info):\n",
    "    if filename in locked_files:\n",
    "        connection.sendall(b\"ERROR: Archivo ya bloqueado\")\n",
    "    else:\n",
    "        locked_files[filename] = client_info\n",
    "        connection.sendall(b\"Archivo bloqueado con exito\")\n",
    "\n",
    "def handle_unlock(connection, filename, client_info):\n",
    "    if locked_files.get(filename) == client_info:\n",
    "        del locked_files[filename]\n",
    "        connection.sendall(b\"Archivo desbloqueado con exito\")\n",
    "    else:\n",
    "        connection.sendall(b\"ERROR: No tienes permiso para desbloquear este archivo\")\n",
    "\n",
    "def handle_client(connection, client_address):\n",
    "    try:\n",
    "        while True:\n",
    "            data = connection.recv(1024).decode()\n",
    "            if data:\n",
    "                command, filename = data.split(' ', 1)\n",
    "                if command == 'get':\n",
    "                    handle_get(connection, filename)\n",
    "                elif command == 'put':\n",
    "                    handle_put(connection, filename)\n",
    "                elif command == 'lock':\n",
    "                    handle_lock(connection, filename, client_address)\n",
    "                elif command == 'unlock':\n",
    "                    handle_unlock(connection, filename, client_address)\n",
    "            else:\n",
    "                break\n",
    "    finally:\n",
    "        connection.close()\n",
    "\n",
    "def start_server(address, port):\n",
    "    sock = socket.socket(socket.AF_INET, socket.SOCK_STREAM)\n",
    "    server_address = (address, port)\n",
    "    sock.bind(server_address)\n",
    "    sock.listen(1)\n",
    "\n",
    "    while True:\n",
    "        connection, client_address = sock.accept()\n",
    "        handle_client(connection, client_address)\n",
    "\n",
    "start_server('localhost', 6782)\n"
   ]
  }
 ],
 "metadata": {
  "kernelspec": {
   "display_name": "Python 3",
   "language": "python",
   "name": "python3"
  },
  "language_info": {
   "codemirror_mode": {
    "name": "ipython",
    "version": 3
   },
   "file_extension": ".py",
   "mimetype": "text/x-python",
   "name": "python",
   "nbconvert_exporter": "python",
   "pygments_lexer": "ipython3",
   "version": "3.11.7"
  }
 },
 "nbformat": 4,
 "nbformat_minor": 2
}
