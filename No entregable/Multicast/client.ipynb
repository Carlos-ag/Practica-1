{
 "cells": [
  {
   "cell_type": "code",
   "execution_count": 7,
   "metadata": {},
   "outputs": [],
   "source": [
    "import socket\n",
    "import struct\n",
    "import time\n",
    "\n",
    "MCAST_GRP = '224.1.1.1'\n",
    "MCAST_PORT = 5007\n",
    "\n",
    "# Crear socket\n",
    "sock = socket.socket(socket.AF_INET, socket.SOCK_DGRAM, socket.IPPROTO_UDP)\n",
    "\n",
    "# Permitir reutilización de direcciones\n",
    "sock.setsockopt(socket.SOL_SOCKET, socket.SO_REUSEADDR, 1)\n",
    "\n",
    "# Unirse al grupo de multidifusión en todas las interfaces\n",
    "mreq = struct.pack(\"4sl\", socket.inet_aton(MCAST_GRP), socket.INADDR_ANY)\n",
    "sock.setsockopt(socket.IPPROTO_IP, socket.IP_ADD_MEMBERSHIP, mreq)\n",
    "\n",
    "# Enlazar al puerto del grupo de multidifusión\n",
    "sock.bind(('', MCAST_PORT))\n",
    "\n",
    "# Configurar TTL\n",
    "ttl = struct.pack('b', 1)\n",
    "sock.setsockopt(socket.IPPROTO_IP, socket.IP_MULTICAST_TTL, ttl)\n",
    "\n",
    "# Enviar mensaje de saludo al grupo\n",
    "sock.sendto(b\"Hello, this is user 1\", (MCAST_GRP, MCAST_PORT))\n",
    "\n",
    "# Esperar y procesar mensajes entrantes hasta recibir \"Adiós\"\n",
    "while True:\n",
    "    try:\n",
    "        data, addr = sock.recvfrom(1024)  # buffer size is 1024 bytes\n",
    "        print(f\"Received message: {data} from {addr}\")\n",
    "\n",
    "        if data.decode() == \"Adiós\":\n",
    "            print(\"Received exit command, leaving multicast group\")\n",
    "            break\n",
    "    except socket.error as e:\n",
    "        print(f\"Socket error: {e}\")\n",
    "        break\n",
    "\n",
    "# Salir del grupo de multidifusión\n",
    "sock.setsockopt(socket.IPPROTO_IP, socket.IP_DROP_MEMBERSHIP, mreq)\n",
    "sock.close()\n"
   ]
  }
 ],
 "metadata": {
  "kernelspec": {
   "display_name": "Python 3",
   "language": "python",
   "name": "python3"
  },
  "language_info": {
   "codemirror_mode": {
    "name": "ipython",
    "version": 3
   },
   "file_extension": ".py",
   "mimetype": "text/x-python",
   "name": "python",
   "nbconvert_exporter": "python",
   "pygments_lexer": "ipython3",
   "version": "3.11.7"
  }
 },
 "nbformat": 4,
 "nbformat_minor": 2
}
