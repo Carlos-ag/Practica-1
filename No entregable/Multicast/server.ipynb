{
 "cells": [
  {
   "cell_type": "code",
   "execution_count": 1,
   "metadata": {},
   "outputs": [
    {
     "name": "stdout",
     "output_type": "stream",
     "text": [
      "[{'type': 'multiple', 'difficulty': 'hard', 'category': 'Science &amp; Nature', 'question': 'What is the most potent toxin known?', 'correct_answer': 'Botulinum toxin', 'incorrect_answers': ['Ricin', 'Cyanide', 'Asbestos']}, {'type': 'multiple', 'difficulty': 'medium', 'category': 'Entertainment: Television', 'question': 'Which of these television shows makes everyone look under their chair?', 'correct_answer': 'Oprah', 'incorrect_answers': ['Jimmy Fallon', 'Saturday Night Live', 'Larry Rubert']}, {'type': 'multiple', 'difficulty': 'medium', 'category': 'General Knowledge', 'question': 'Which of the General Mills Corporation&#039;s monster cereals was the last to be released in the 1970&#039;s?', 'correct_answer': 'Fruit Brute', 'incorrect_answers': ['Count Chocula', 'Franken Berry', 'Boo-Berry']}, {'type': 'multiple', 'difficulty': 'medium', 'category': 'Science &amp; Nature', 'question': 'The humerus, paired radius, and ulna come together to form what joint?', 'correct_answer': 'Elbow', 'incorrect_answers': ['Knee', 'Sholder', 'Ankle']}, {'type': 'multiple', 'difficulty': 'easy', 'category': 'Sports', 'question': 'In what sport is a &quot;shuttlecock&quot; used?', 'correct_answer': 'Badminton', 'incorrect_answers': ['Table Tennis', 'Rugby', 'Cricket']}]\n"
     ]
    }
   ],
   "source": [
    "import requests\n",
    "\n",
    "def obtener_preguntas():\n",
    "    # URL de la API\n",
    "    url = 'https://opentdb.com/api.php?amount=5'\n",
    "    \n",
    "    # Realizamos la petición GET a la API\n",
    "    respuesta = requests.get(url)\n",
    "    \n",
    "    # Verificamos si la petición fue exitosa\n",
    "    if respuesta.status_code == 200:\n",
    "        # Convertimos la respuesta en formato JSON a un diccionario de Python\n",
    "        datos = respuesta.json()\n",
    "        \n",
    "        # Verificamos el código de respuesta de la API\n",
    "        if datos['response_code'] == 0:\n",
    "            # Retornamos los resultados\n",
    "            return datos['results']\n",
    "        else:\n",
    "            # En caso de que la respuesta de la API no sea exitosa, retornamos un mensaje de error\n",
    "            return \"Error en la respuesta de la API: código de respuesta {}\".format(datos['response_code'])\n",
    "    else:\n",
    "        # En caso de que la petición HTTP no sea exitosa, retornamos un mensaje de error\n",
    "        return \"Error en la petición HTTP: código de estado {}\".format(respuesta.status_code)\n",
    "\n",
    "# Llamamos a la función y mostramos los resultados\n",
    "resultados = obtener_preguntas()\n",
    "print(resultados)\n"
   ]
  }
 ],
 "metadata": {
  "kernelspec": {
   "display_name": "pandasenv",
   "language": "python",
   "name": "python3"
  },
  "language_info": {
   "codemirror_mode": {
    "name": "ipython",
    "version": 3
   },
   "file_extension": ".py",
   "mimetype": "text/x-python",
   "name": "python",
   "nbconvert_exporter": "python",
   "pygments_lexer": "ipython3",
   "version": "3.10.1"
  }
 },
 "nbformat": 4,
 "nbformat_minor": 2
}
